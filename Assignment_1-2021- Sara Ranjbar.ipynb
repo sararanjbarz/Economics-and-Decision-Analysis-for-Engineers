{
 "cells": [
  {
   "cell_type": "markdown",
   "metadata": {},
   "source": [
    "# ASSIGNMENT 1\n",
    "\n",
    "### Create Python codes to solve the following tasks on this pre-made Jupyter file. Make sure you edit the cell below to add your Name, E-mail, and Student Number."
   ]
  },
  {
   "cell_type": "markdown",
   "metadata": {},
   "source": [
    "## Name: Sara Ranjbar Zanjani\n",
    "## Student No: 273878\n",
    "## E-mail: s.ranjbarzanjani@stud.uis.no"
   ]
  },
  {
   "cell_type": "markdown",
   "metadata": {},
   "source": [
    "___\n",
    "### Task 1: Time Value of Money Calculations\n",
    "___"
   ]
  },
  {
   "cell_type": "markdown",
   "metadata": {},
   "source": [
    ">1. Write a function f_lump_sum(i, n, p) to calculate and return the future value of a lump sum p invested at the periodic rate i for n periods. Recall the equation for the future value of a lump sum:  \n",
    ">\n",
    ">$$F(P,i,N)=P(1+i)^N$$\n",
    ">> Calculate:  \n",
    "   \\\\$200 at 5% annual rate for 4 years  \n",
    "   \\\\$500 at 8% APR for 30 years (with monthly compounding)"
   ]
  },
  {
   "cell_type": "code",
   "execution_count": 1,
   "metadata": {},
   "outputs": [
    {
     "name": "stdout",
     "output_type": "stream",
     "text": [
      "Amount owed at end of Year 4 is $ 243.10125000000005\n"
     ]
    }
   ],
   "source": [
    "p = 200 # $\n",
    "i = 0.05 # per year\n",
    "N = 4 # years\n",
    "\n",
    "def f_limp_sum (i,N,p):\n",
    "    return p*(1+i)**N\n",
    "\n",
    "F = f_limp_sum(i, N, p)\n",
    "print('Amount owed at end of Year 4 is $', F)\n",
    "\n"
   ]
  },
  {
   "cell_type": "code",
   "execution_count": 4,
   "metadata": {},
   "outputs": [
    {
     "name": "stdout",
     "output_type": "stream",
     "text": [
      "Amount owed at end of Year 30 is $ 5467.864828877787\n"
     ]
    }
   ],
   "source": [
    "p = 500 # $\n",
    "i_compound = 0.08/12 # per month\n",
    "N = 30*12 # months\n",
    "\n",
    "def f_limp_sum (i_compound,N,p):\n",
    "    return p*(1+i_compound)**N\n",
    "\n",
    "F = f_limp_sum(i_compound, N, p)\n",
    "print('Amount owed at end of Year 30 is $', F) "
   ]
  },
  {
   "cell_type": "markdown",
   "metadata": {},
   "source": [
    ">2.\tWrite a function p_lump_sum(i, n, f) to calculate and return the present value of a lump sum f to be received in the future, discounted at the periodic rate i for n periods. Recall the equation for the present value of a lump sum:\n",
    ">\n",
    ">$$ P(F,i,N)=\\frac{F}{(1+i)^N}$$  \n",
    "> Calculate:  \n",
    "   \\\\$1000 to be received in 6 years at 7% per year  \n",
    "   \\\\$400 received in 5 years, 5% APR, semi-annual compounding\n",
    "\n"
   ]
  },
  {
   "cell_type": "code",
   "execution_count": 7,
   "metadata": {},
   "outputs": [
    {
     "name": "stdout",
     "output_type": "stream",
     "text": [
      "The present value is $ 666.3422238165124\n"
     ]
    }
   ],
   "source": [
    "F = 1000 # $\n",
    "N = 6 # years\n",
    "i = 0.07 # per year\n",
    "\n",
    "def p_lump_sum(i, N, F):\n",
    "    return F/(1+i)**N\n",
    "\n",
    "P = p_lump_sum (i, N, F)\n",
    "print ('The present value is $', P)"
   ]
  },
  {
   "cell_type": "code",
   "execution_count": 5,
   "metadata": {},
   "outputs": [
    {
     "name": "stdout",
     "output_type": "stream",
     "text": [
      "The present value is $ 312.47936069029095\n"
     ]
    }
   ],
   "source": [
    "F = 400 # $\n",
    "N = 5*2 # semi annual\n",
    "i = 0.05/2 # semi annual\n",
    "\n",
    "def p_lump_sum(i, N, F):\n",
    "    return F/(1+i)**N\n",
    "\n",
    "P = p_lump_sum (i, N, F)\n",
    "print ('The present value is $', P)"
   ]
  },
  {
   "cell_type": "markdown",
   "metadata": {},
   "source": [
    ">3.\tWrite a function f_annuity(i, n, a) to calculate and return the future value of an annuity of a to be received each period for n periods, invested at the periodic rate i. Recall the equation for the future value of an annuity is:\n",
    ">\n",
    ">$$ F(A,i,N)=A\\left[{\\frac{(1+i)^N-1}{i}}\\right] $$\n",
    ">> Calculate:  \n",
    "   invest \\\\$500 per year for 10 years at 3\\% interest   \n",
    "   invest \\\\$1000 per month for 5 years at 10% APR\n",
    "\n",
    "\n"
   ]
  },
  {
   "cell_type": "code",
   "execution_count": 6,
   "metadata": {},
   "outputs": [
    {
     "name": "stdout",
     "output_type": "stream",
     "text": [
      "5731.93965573537\n"
     ]
    }
   ],
   "source": [
    "a = 500 # $\n",
    "n = 10 # years\n",
    "i = 0.03 # \n",
    "\n",
    "def f_annuity(i,n,a):\n",
    "    return a*(((1+i)**n-1)/i)\n",
    "    \n",
    "F = f_annuity (i,n,a)\n",
    "print(F) "
   ]
  },
  {
   "cell_type": "code",
   "execution_count": 2,
   "metadata": {},
   "outputs": [
    {
     "name": "stdout",
     "output_type": "stream",
     "text": [
      "77437.07217343025\n"
     ]
    }
   ],
   "source": [
    "a = 1000 # $\n",
    "n = 5*12 # years\n",
    "i = 0.1/12 # \n",
    "\n",
    "def f_annuity(i,n,a):\n",
    "    return a*(((1+i)**n-1)/i)\n",
    "    \n",
    "F = f_annuity (i,n,a)\n",
    "print(F) "
   ]
  },
  {
   "cell_type": "markdown",
   "metadata": {},
   "source": [
    ">4.\tWrite a function p_annuity(i, n, a) to calculate and return the present value of an annuity of a to be received each period for n periods, discounted at the rate i. Recall the equation for the present value of an annuity is: \n",
    ">\n",
    ">$$ P(F,i,N)=A\\left[{\\frac{(1+i)^N-1}{i(1+i)^N}}\\right]=A\\left[{\\frac{1-(1+i)^{-N}}{i}}\\right]$$\n",
    ">>Calculate:  \n",
    "   p of 30 payments of \\\\$300 per year, 6\\% interest  \n",
    "   p of 70 payments of \\\\$500 per month, 0.9% APR\n",
    "   \n"
   ]
  },
  {
   "cell_type": "code",
   "execution_count": 21,
   "metadata": {},
   "outputs": [
    {
     "name": "stdout",
     "output_type": "stream",
     "text": [
      "4129.449345446828\n"
     ]
    }
   ],
   "source": [
    "a = 300 # $\n",
    "n = 30 # number of payments\n",
    "i = 0.06 # per year\n",
    "\n",
    "def p_annuity(i, n, a):\n",
    "    if i == 0:\n",
    "        p = a*n\n",
    "    else:\n",
    "        return a*((1-(1+i)**(-n))/i)\n",
    "\n",
    "p = p_annuity ( i, n, a)    \n",
    "print(p)"
   ]
  },
  {
   "cell_type": "code",
   "execution_count": 4,
   "metadata": {},
   "outputs": [
    {
     "name": "stdout",
     "output_type": "stream",
     "text": [
      "27152.311051725177\n"
     ]
    }
   ],
   "source": [
    "a = 500 # $ per month\n",
    "n = 70 # number of payments\n",
    "i = 0.09/12 # per month\n",
    "\n",
    "def p_annuity(i, n, a):\n",
    "    if i == 0:\n",
    "        p = a*n\n",
    "    else:\n",
    "        return a*((1-(1+i)**(-n))/i)\n",
    "\n",
    "p = p_annuity ( i, n, a)    \n",
    "print(p)"
   ]
  },
  {
   "cell_type": "markdown",
   "metadata": {},
   "source": [
    ">5.\tWrite a function annuity_payment(i, n, p) that calculates the amortizing annuity\n",
    "payment for a present value of p to be repaid at a periodic interest rate of i for n periods. Recall the equation for the amortizing annuity payment is:\n",
    ">\n",
    ">$$ A(P,i,N)=P\\left[{\\frac{i(1+i)^N}{(1+i)^N-1}}\\right]=\\frac{i*P}{1-(1+i)^{-N}}$$\n",
    ">>Calculate:  \n",
    "   annuity payment for p of \\\\$1,200 for 15 year at 4\\%   \n",
    "   annuity payment for p of \\\\$500,000 for 120 months at 2% APR\n",
    "\n",
    "\n"
   ]
  },
  {
   "cell_type": "code",
   "execution_count": 22,
   "metadata": {},
   "outputs": [
    {
     "name": "stdout",
     "output_type": "stream",
     "text": [
      "107.92932044516778\n"
     ]
    }
   ],
   "source": [
    "p = 1200 # $\n",
    "n = 15 # per year\n",
    "i = 0.04 # per year\n",
    "\n",
    "def annuity_payment(i, n, p):\n",
    "    return (p*i)/(1-(1+i)**(-n))\n",
    "    \n",
    "A = annuity_payment (i , n ,p)\n",
    "print(A)  #annuity payment for p of $1,000 for 10 year at 5%"
   ]
  },
  {
   "cell_type": "code",
   "execution_count": 6,
   "metadata": {},
   "outputs": [
    {
     "name": "stdout",
     "output_type": "stream",
     "text": [
      "4600.672692127939\n"
     ]
    }
   ],
   "source": [
    "p = 500000 # $\n",
    "n = 120 # months\n",
    "i = 0.02/12 # per month\n",
    "\n",
    "def annuity_payment(i, n, p):\n",
    "    return (p*i)/(1-(1+i)**(-n))\n",
    "    \n",
    "A = annuity_payment (i , n ,p)\n",
    "print(A)"
   ]
  },
  {
   "cell_type": "markdown",
   "metadata": {},
   "source": [
    "> 6.\tConsider for example an annuity α, which pays \\\\$1,000 per year for 25 years, at a cost of \\\\$15,000 today. Now consider annuity β, which pays \\\\$1,250 per year for 20 years, also at a cost of $15,000 today. Which one is a better investment?\n",
    ">\n",
    ">> Write a function annuity_rate(n, a, p) to calculate the annuity rate given the number of years, annuity, and present value.\n",
    ">>   \n",
    ">>   Calculate:  \n",
    "   α rate  ->  annuity_rate(25,1000,15000)  \n",
    "   β rate  ->  annuity_rate(20,1250,15000)\n",
    ">\n",
    "> (Hints:\n",
    "* One way to compare them is to find the implied rate of return in each case; all other things considered equal, the investment with the higher rate of return is superior.\n",
    "* Write a function annuity_rate(n, a, p) to solve for and return the rate of interest required to amortize the p in n periods with equal periodic payments of a.\n",
    "* Your function should call your p_annuity(i, n, a) function when appropriate, and not re-write this calculation in this function.)"
   ]
  },
  {
   "cell_type": "code",
   "execution_count": 7,
   "metadata": {},
   "outputs": [],
   "source": [
    "import scipy.optimize as opt\n",
    "import numpy as np"
   ]
  },
  {
   "cell_type": "code",
   "execution_count": 8,
   "metadata": {},
   "outputs": [
    {
     "name": "stdout",
     "output_type": "stream",
     "text": [
      "Alpha rate: When the annuty interest rate is  0.04388420756496062 , the annuty payment will be NOK 1000.\n"
     ]
    }
   ],
   "source": [
    "#Alpha\n",
    "n = 25 # years\n",
    "p = 15000 # $ \n",
    "a_alpha = 1000 # per year\n",
    "\n",
    "def annuity_rate (n,p,a):\n",
    "    squared_error = lambda i:np.abs(annuity_payment(i, n, p) - a_alpha)\n",
    "    result = opt.minimize(fun=squared_error, x0=0.5, method='L-BFGS-B', bounds=((0.000001, 1),))\n",
    "    i_opt = result.x[0]\n",
    "    return i_opt\n",
    "alpha_rate = annuity_rate(25,15000,1000)\n",
    "print('Alpha rate: When the annuty interest rate is ', alpha_rate, ', the annuty payment will be NOK 1000.')"
   ]
  },
  {
   "cell_type": "code",
   "execution_count": 9,
   "metadata": {},
   "outputs": [
    {
     "name": "stdout",
     "output_type": "stream",
     "text": [
      "Betha rate: When the annuty interest rate is  0.054501134876916484 , the annuty payment will be NOK 1250.\n"
     ]
    }
   ],
   "source": [
    "#betha\n",
    "n = 20 # years\n",
    "p = 15000 # $ \n",
    "a_betha = 1250 # per year\n",
    "\n",
    "def annuity_rate (n,p,a):\n",
    "    squared_error = lambda i:np.abs(annuity_payment(i, n, p) - a_betha)\n",
    "    result = opt.minimize(fun=squared_error, x0=0.5, method='L-BFGS-B', bounds=((0.000001, 1),))\n",
    "    i_opt = result.x[0]\n",
    "    return i_opt\n",
    "betha_rate = annuity_rate(20,15000,1250)\n",
    "print('Betha rate: When the annuty interest rate is ', betha_rate, ', the annuty payment will be NOK 1250.')"
   ]
  },
  {
   "cell_type": "markdown",
   "metadata": {},
   "source": [
    "# Less annuty interest rate would be better choice"
   ]
  },
  {
   "cell_type": "code",
   "execution_count": 10,
   "metadata": {},
   "outputs": [
    {
     "name": "stdout",
     "output_type": "stream",
     "text": [
      " alpha annuty interest rate is better\n"
     ]
    }
   ],
   "source": [
    "if alpha_rate> betha_rate:\n",
    "    print (\" betha annuty interest rate is better\")\n",
    "else:\n",
    "    print (\" alpha annuty interest rate is better\")"
   ]
  },
  {
   "cell_type": "markdown",
   "metadata": {},
   "source": [
    "___\n",
    "### Task 2: The Life-Cycle Model of Saving and Consumption\n",
    "___"
   ]
  },
  {
   "cell_type": "markdown",
   "metadata": {},
   "source": [
    ">The Life-Cycle Model was first developed by Nobel Prize winning economist Franco Modigliani in the 1950s to help explain household’s decisions about spending and saving over time. Modigliani observed that households accumulate wealth during their working years and spend down that wealth during their retirement years, with the goal of maintaining a relatively smooth standard of living for all years, i.e., to keep spending the same amount year in and year out, even when they stop working.\n",
    ">\n",
    ">To find this smooth level of consumption, we will need to find a household’s total economic resources, which  are  a  combination  of  human  capital  (the  value  of  future  income)  and  financial  assets.  Given  a household’s total economic, we can calculate the sustainable (smooth) amount of spending for each year of life until some maximum age.\n",
    ">\n",
    ">Assumptions: We assume to work in real (inflation-adjusted dollars) and to use an inflation-adjusted risk-freeinterest rate. As a simplification, we also assume no taxes.\n",
    ">\n",
    ">\n",
    ">>\n",
    ">> 1.Create a function \"life_cycle_model\"  \n",
    ">>\n",
    ">> 2.Use the function to calculate the following for the two cases presented bellow\n",
    ">>> - Human value of capital  \n",
    ">>> - Economic net worth  \n",
    ">>> - Amount on annual consumption  \n",
    ">>> - Annual savings requirement  \n",
    ">>\n",
    ">>   - Case 1: A 40-year-old, mid-career with 130.000 assets; willing to retire at 68 and with current anual income of 85000  and a 0.04 risk-free rate of return. \n",
    ">>   - Case 2: A 23-year old, first job, $150,000 of student loan debt (i.e., negative assets); willing to retire at 64 and with a current year income of 46000 and a 0.03 risk-free rate of return. \n",
    ">\n",
    "> (Hints:\n",
    "* Do the tasks in a function called life_cycle_model. \n",
    "* The inputs of the function are the rate of return, the user’s age now, retirement age, current wealth, and current income.\n",
    "* Calculate  the  human  capital,  which  is  the  present  value  of  the  user’s  lifetime  income  (i.e.,  an annuity) using your p_annuity function. Print out the present value of human capital.\n",
    "* If there are debts, the current wealth should be a negative number. \n",
    "* Calculate the economic net worth as human capital plus assets. Print out the economic net worth.\n",
    "* Calculate the sustainable standard of living (i.e., consumption): first, determine the number of years of consumption by using 100 years old as the maximum age; second, use your annuity_payment function to calculate the amount of annual consumption that can be sustained from the economic net worth. Print out the annual standard of living.\n",
    "* Calculate the amount of annual savings required. Annual savings are annual income minus annual consumption. Print out the annual savings.)\n",
    "\n"
   ]
  },
  {
   "cell_type": "code",
   "execution_count": 26,
   "metadata": {},
   "outputs": [],
   "source": [
    "#Case 1\n",
    "age_now = 40 #years current age of user\n",
    "assets = 130000 #$\n",
    "retirement_age = 68 #year user willing to retire\n",
    "anual_income = 85000 #$ user current anual income\n",
    "return_rate = 0.04 # anually risk free return rate\n",
    "maximum_age = 100  #year Maximum age of user"
   ]
  },
  {
   "cell_type": "code",
   "execution_count": 29,
   "metadata": {},
   "outputs": [
    {
     "name": "stdout",
     "output_type": "stream",
     "text": [
      "The present value of the user’s lifetime income is: 1416360.3735298906\n",
      "The economic net worth is: 1546360.3735298906\n",
      "The annual consumption of living is: 68351.9817355506\n",
      "The annual savings is: 16648.018264449405\n"
     ]
    }
   ],
   "source": [
    "def life_cycle_model(return_rate, age_now, retirement_age, current_wealth, anual_income):\n",
    "    human_capital = p_annuity( return_rate, (retirement_age-age_now), anual_income)\n",
    "    print (\"The present value of the user’s lifetime income is:\", human_capital)\n",
    "    economic_net_worth = (human_capital) + assets\n",
    "    print (\"The economic net worth is:\", economic_net_worth)\n",
    "    years_of_consumption = maximum_age - age_now\n",
    "    sustainable_living =  annuity_payment( return_rate, years_of_consumption, economic_net_worth)\n",
    "    print (\"The annual consumption of living is:\", sustainable_living)\n",
    "    anual_savings = anual_income - sustainable_living\n",
    "    print (\"The annual savings is:\", anual_savings)\n",
    "   \n",
    "life_cycle_model(0.04, 40, 68, 130000, 85000)"
   ]
  },
  {
   "cell_type": "code",
   "execution_count": 30,
   "metadata": {},
   "outputs": [],
   "source": [
    "#Case 2\n",
    "age_now = 23 #years current age of user\n",
    "student_loan = -150000 #$ student loan debt\n",
    "retirement_age = 64 #year user willing to retire\n",
    "anual_income = 46000 #$ user current anual income\n",
    "return_rate = 0.03 # anually risk free return rate\n",
    "maximum_age = 100  #year Maximum age of user"
   ]
  },
  {
   "cell_type": "code",
   "execution_count": 32,
   "metadata": {},
   "outputs": [
    {
     "name": "stdout",
     "output_type": "stream",
     "text": [
      "The present value of the user’s lifetime income is: 1076970.3988480554\n",
      "The economic net worth is: 926970.3988480554\n",
      "The  annual consumption of living is: 30991.689150160757\n",
      "The annual savings is: 15008.310849839243\n"
     ]
    }
   ],
   "source": [
    "def life_cycle_model(return_rate, age_now, retirement_age, current_wealth, anual_income):\n",
    "    human_capital = p_annuity( return_rate, (retirement_age-age_now), anual_income) \n",
    "    print (\"The present value of the user’s lifetime income is:\", human_capital)\n",
    "    economic_net_worth = (human_capital) + student_loan\n",
    "    print (\"The economic net worth is:\", economic_net_worth)\n",
    "    years_of_consumption = maximum_age - age_now\n",
    "    sustainable_living =  annuity_payment( return_rate, years_of_consumption, economic_net_worth)\n",
    "    print (\"The  annual consumption of living is:\", sustainable_living)\n",
    "    anual_savings = anual_income - sustainable_living\n",
    "    print (\"The annual savings is:\", anual_savings)\n",
    "life_cycle_model(0.03, 23, 64, -150000, 46000)"
   ]
  },
  {
   "cell_type": "code",
   "execution_count": null,
   "metadata": {},
   "outputs": [],
   "source": []
  }
 ],
 "metadata": {
  "kernelspec": {
   "display_name": "Python 3 (ipykernel)",
   "language": "python",
   "name": "python3"
  },
  "language_info": {
   "codemirror_mode": {
    "name": "ipython",
    "version": 3
   },
   "file_extension": ".py",
   "mimetype": "text/x-python",
   "name": "python",
   "nbconvert_exporter": "python",
   "pygments_lexer": "ipython3",
   "version": "3.9.7"
  }
 },
 "nbformat": 4,
 "nbformat_minor": 2
}
